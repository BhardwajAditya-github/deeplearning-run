{
 "cells": [
  {
   "cell_type": "markdown",
   "metadata": {},
   "source": [
    "transformers → For working with DeepSeek models.\n",
    "datasets → For handling urgency_data.csv efficiently.\n",
    "peft → For LoRA fine-tuning (saves memory).\n",
    "accelerate → Optimizes training performance.\n",
    "bitsandbytes → Enables 8-bit and 4-bit quantization to reduce RAM usage.\n",
    "torch → PyTorch for model training."
   ]
  }
 ],
 "metadata": {
  "language_info": {
   "name": "python"
  }
 },
 "nbformat": 4,
 "nbformat_minor": 2
}
