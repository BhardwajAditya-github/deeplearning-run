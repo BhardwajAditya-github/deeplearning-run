{
  "cells": [
    {
      "cell_type": "markdown",
      "metadata": {
        "id": "t2zS-SmhjTQQ"
      },
      "source": [
        "# Urgency Detector\n",
        "\n",
        "transformers → For working with DeepSeek models.\n",
        "datasets → For handling urgency_data.csv efficiently.\n",
        "peft → For LoRA fine-tuning (saves memory).\n",
        "accelerate → Optimizes training performance.\n",
        "bitsandbytes → Enables 8-bit and 4-bit quantization to reduce RAM usage.\n",
        "torch → PyTorch for model training."
      ]
    },
    {
      "cell_type": "code",
      "source": [
        "pip install torch_xla[tpu] -f https://storage.googleapis.com/libtpu-releases/index.html\n",
        "\n",
        "from transformers import AutoModelForSequenceClassification, AutoTokenizer\n",
        "import torch\n",
        "import torch_xla\n",
        "import torch_xla.core.xla_model as xm\n",
        "\n",
        "# Load the smallest DeepSeek model\n",
        "MODEL_NAME = \"deepseek-ai/DeepSeek-R1-Distill-Qwen-1.5B\"  # We'll replace this with a smaller model if needed\n",
        "\n",
        "# Load tokenizer\n",
        "tokenizer = AutoTokenizer.from_pretrained(MODEL_NAME)\n",
        "\n",
        "# Load model (set device to TPU if available)\n",
        "device = xm.xla_device()\n",
        "model = AutoModelForSequenceClassification.from_pretrained(\n",
        "    MODEL_NAME, num_labels=6\n",
        ").to(device)\n",
        "\n",
        "# Verify model is loaded\n",
        "print(f\"Model loaded on {device}\")"
      ],
      "metadata": {
        "id": "DUJF8UcijV42"
      },
      "execution_count": null,
      "outputs": []
    },
    {
      "cell_type": "markdown",
      "source": [
        "# Test Tokenization on Sample Data\n",
        "Before fine-tuning, let’s verify that our tokenizer is working properly:\n",
        "\n",
        "# Initial Model Testing on Small Dataset\n",
        "Before fine-tuning, we want to check how well the base DeepSeek model classifies urgency without training.\n",
        "\n",
        "1. Prepare a Few Sample Inputs for Testing\n",
        "We will create a small dataset with a few labeled examples:"
      ],
      "metadata": {
        "id": "3YvkXs_RjWXl"
      }
    },
    {
      "cell_type": "code",
      "source": [
        "sample_conversations = [\n",
        "    {\n",
        "        \"conversation\": (\n",
        "            \"Caller: I need you to send money immediately, I am in big trouble!\\n\"\n",
        "            \"Receiver: What happened? Why do you need money so urgently?\\n\"\n",
        "            \"Caller: I got into a legal issue, and I need bail money right now!\"\n",
        "        ),\n",
        "        \"label\": \"Legal/Authority Urgency\"\n",
        "    },\n",
        "    {\n",
        "        \"conversation\": (\n",
        "            \"Caller: Hey, I just saw this new phone, and it’s on a flash sale for 80% off! You have to buy it now!\\n\"\n",
        "            \"Receiver: That’s a crazy deal! How long is the sale?\\n\"\n",
        "            \"Caller: It’s only for the next 5 minutes! Hurry up!\"\n",
        "        ),\n",
        "        \"label\": \"Social/Peer Pressure Urgency\"\n",
        "    },\n",
        "    {\n",
        "        \"conversation\": (\n",
        "            \"Caller: The bank just called. They said there’s an issue with your account, and you need to verify your details now.\\n\"\n",
        "            \"Receiver: Wait, is this a scam? My bank never calls like this.\\n\"\n",
        "            \"Caller: No, this is serious! If you don’t confirm, your account will be frozen!\"\n",
        "        ),\n",
        "        \"label\": \"Financial Urgency\"\n",
        "    }\n",
        "]\n",
        "\n",
        "labels = [\"Emotional Urgency\", \"Financial Urgency\", \"Legal/Authority Urgency\", \"No Urgency\", \"Social/Peer Pressure Urgency\", \"Romantic Urgency\"]\n",
        "label_to_id = {label: i for i, label in enumerate(labels)}\n"
      ],
      "metadata": {
        "id": "AirSir3MjY8d"
      },
      "execution_count": null,
      "outputs": []
    },
    {
      "cell_type": "markdown",
      "source": [
        "2. Tokenize & Run Model on Small Sample\n",
        "Now, we tokenize these conversations and see what the model predicts:"
      ],
      "metadata": {
        "id": "3ibq5PRujbK_"
      }
    },
    {
      "cell_type": "code",
      "source": [
        "import torch.nn.functional as F\n",
        "\n",
        "tokenizer.pad_token = tokenizer.eos_token\n",
        "# Convert text to tokens\n",
        "for conv in sample_conversations:\n",
        "    inputs = tokenizer(\n",
        "        conv[\"conversation\"],\n",
        "        truncation=True,\n",
        "        padding=True,\n",
        "        return_tensors=\"pt\"\n",
        "    ).to(device)\n",
        "\n",
        "    # Get model predictions\n",
        "    with torch.no_grad():\n",
        "        outputs = model(**inputs)\n",
        "        logits = outputs.logits\n",
        "        prediction = torch.argmax(logits, dim=-1).item()  # Get predicted class\n",
        "\n",
        "    # Print results\n",
        "    print(f\"Conversation: {conv['conversation'][:100]}...\")  # Print first 100 chars\n",
        "    print(f\"Actual Label: {conv['label']}\")\n",
        "    print(f\"Predicted Label: {labels[prediction]}\")\n",
        "    print(\"=\" * 50)\n"
      ],
      "metadata": {
        "id": "BzO3gIIDjgl8"
      },
      "execution_count": null,
      "outputs": []
    },
    {
      "cell_type": "markdown",
      "source": [
        "# Step 3: Preparing the Dataset for Fine-Tuning\n",
        "Now, we’ll prepare the main dataset (urgency_data.csv) for fine-tuning by:\n",
        "\n",
        "1. Loading and inspecting the dataset.\n",
        "2. Converting text and labels into model-compatible format.\n",
        "3. Splitting the dataset into train and validation sets.\n",
        "4. Ensuring efficient memory usage.\n",
        "\n"
      ],
      "metadata": {
        "id": "e7b4v8i8jiUh"
      }
    },
    {
      "cell_type": "markdown",
      "source": [
        "# 3.1 Load & Inspect the Dataset"
      ],
      "metadata": {
        "id": "el-aLEnxjktw"
      }
    },
    {
      "cell_type": "code",
      "source": [
        "import pandas as pd\n",
        "\n",
        "# Load dataset\n",
        "df = pd.read_csv(\"./urgency_data.csv\")\n",
        "\n",
        "# Display some samples\n",
        "print(df.head())\n"
      ],
      "metadata": {
        "id": "_DIHS7j7joCJ"
      },
      "execution_count": null,
      "outputs": []
    },
    {
      "cell_type": "markdown",
      "source": [
        "# 3.2 Encode Labels into Numerical Format\n",
        "Since models require numerical inputs, we map labels to integers"
      ],
      "metadata": {
        "id": "1ff9cTUpjp1a"
      }
    },
    {
      "cell_type": "code",
      "source": [
        "from sklearn.preprocessing import LabelEncoder\n",
        "\n",
        "# Initialize LabelEncoder\n",
        "label_encoder = LabelEncoder()\n",
        "df[\"label_encoded\"] = label_encoder.fit_transform(df[\"label\"])\n",
        "\n",
        "# Store label mapping for future decoding\n",
        "label_mapping = dict(zip(label_encoder.classes_, label_encoder.transform(label_encoder.classes_)))\n",
        "\n",
        "print(\"Label Mapping:\", label_mapping)\n"
      ],
      "metadata": {
        "id": "W5LWa-s5j8Ee"
      },
      "execution_count": null,
      "outputs": []
    },
    {
      "cell_type": "markdown",
      "source": [
        "# 3.3 Train-Test Split"
      ],
      "metadata": {
        "id": "d_Gqc7VJj9oL"
      }
    },
    {
      "cell_type": "code",
      "source": [
        "from sklearn.model_selection import train_test_split\n",
        "\n",
        "train_texts, val_texts, train_labels, val_labels = train_test_split(\n",
        "    df[\"conversation\"].tolist(),\n",
        "    df[\"label_encoded\"].tolist(),\n",
        "    test_size=0.2,\n",
        "    random_state=42\n",
        ")\n",
        "\n",
        "print(f\"Training Samples: {len(train_texts)}, Validation Samples: {len(val_texts)}\")\n"
      ],
      "metadata": {
        "id": "OTRS0xUPj_A5"
      },
      "execution_count": null,
      "outputs": []
    },
    {
      "cell_type": "markdown",
      "source": [
        "# Step 4: Tokenization & Memory Optimization\n",
        "This step ensures efficient processing by:\n",
        "1. Tokenizing conversations using the pre-trained model’s tokenizer.\n",
        "2. Truncating or padding sequences to a fixed length.\n",
        "3. Using PyTorch Dataset for efficient batch processing."
      ],
      "metadata": {
        "id": "h68ym1dxj_rV"
      }
    },
    {
      "cell_type": "code",
      "source": [
        "# Load tokenizer\n",
        "\n",
        "# Define a padding token if it's missing\n",
        "if tokenizer.pad_token is None:\n",
        "    tokenizer.pad_token = tokenizer.eos_token  # Use EOS token as padding\n",
        "    model.config.pad_token_id = tokenizer.pad_token_id  # Assign it to the model\n",
        "\n",
        "# Tokenize training and validation data\n",
        "train_encodings = tokenizer(train_texts, truncation=True, padding=True, max_length=512)\n",
        "val_encodings = tokenizer(val_texts, truncation=True, padding=True, max_length=512)\n",
        "\n",
        "print(\"Sample Tokenized Input:\", train_encodings[\"input_ids\"][0][:20])  # First 20 tokens"
      ],
      "metadata": {
        "id": "_8NVCyxQkBmd"
      },
      "execution_count": null,
      "outputs": []
    },
    {
      "cell_type": "markdown",
      "source": [
        "# 4.2 Create PyTorch Dataset for Efficient Batching\n",
        "\n",
        "Since Hugging Face models use PyTorch, we need to wrap tokenized data into a dataset."
      ],
      "metadata": {
        "id": "ZOMPSAkWkDSr"
      }
    },
    {
      "cell_type": "code",
      "source": [
        "import torch\n",
        "\n",
        "class UrgencyDataset(torch.utils.data.Dataset):\n",
        "    def __init__(self, encodings, labels):\n",
        "        self.encodings = encodings\n",
        "        self.labels = labels\n",
        "\n",
        "    def __len__(self):\n",
        "        return len(self.labels)\n",
        "\n",
        "    def __getitem__(self, idx):\n",
        "        item = {key: torch.tensor(val[idx]) for key, val in self.encodings.items()}\n",
        "        item[\"labels\"] = torch.tensor(self.labels[idx])\n",
        "        return item\n",
        "\n",
        "# Convert tokenized data into PyTorch Datasets\n",
        "train_dataset = UrgencyDataset(train_encodings, train_labels)\n",
        "val_dataset = UrgencyDataset(val_encodings, val_labels)\n",
        "\n",
        "print(\"Dataset Created. Training Samples:\", len(train_dataset), \"| Validation Samples:\", len(val_dataset))\n"
      ],
      "metadata": {
        "id": "3SaajyKfkE9i"
      },
      "execution_count": null,
      "outputs": []
    },
    {
      "cell_type": "markdown",
      "source": [
        "# 4.3 Set Up DataLoaders for Optimized Training\n",
        "\n",
        "We use DataLoaders to handle batching & parallel processing efficiently."
      ],
      "metadata": {
        "id": "xulwCczakGJ0"
      }
    },
    {
      "cell_type": "code",
      "source": [
        "from torch.utils.data import DataLoader\n",
        "\n",
        "# Set batch size (adjust based on RAM availability)\n",
        "BATCH_SIZE = 1\n",
        "\n",
        "# Create DataLoaders\n",
        "train_loader = DataLoader(train_dataset, batch_size=BATCH_SIZE, shuffle=True, pin_memory=True)\n",
        "val_loader = DataLoader(val_dataset, batch_size=BATCH_SIZE, shuffle=False, pin_memory=True)\n",
        "\n",
        "print(\"Dataloaders Ready! Batch Size:\", BATCH_SIZE)\n"
      ],
      "metadata": {
        "id": "KTb1B2G8kHdw"
      },
      "execution_count": null,
      "outputs": []
    },
    {
      "cell_type": "markdown",
      "source": [
        "# Step 5: System Resource Check Before Fine-Tuning\n",
        "\n",
        "We’ll monitor system memory, CPU, and GPU usage to avoid crashes during training."
      ],
      "metadata": {
        "id": "0JlR8UFokIwN"
      }
    },
    {
      "cell_type": "code",
      "source": [
        "import psutil\n",
        "\n",
        "# Check RAM usage\n",
        "ram = psutil.virtual_memory()\n",
        "print(f\"Total RAM: {ram.total / 1e9:.2f} GB\")\n",
        "print(f\"Available RAM: {ram.available / 1e9:.2f} GB\")\n",
        "print(f\"Used RAM: {ram.used / 1e9:.2f} GB ({ram.percent}%)\")\n",
        "\n",
        "# Check disk usage\n",
        "disk = psutil.disk_usage('/')\n",
        "print(f\"Total Disk Space: {disk.total / 1e9:.2f} GB\")\n",
        "print(f\"Available Disk Space: {disk.free / 1e9:.2f} GB\")\n",
        "print(f\"Used Disk Space: {disk.used / 1e9:.2f} GB ({disk.percent}%)\")\n",
        "\n",
        "import torch\n",
        "\n",
        "# Check if GPU is available\n",
        "if torch.cuda.is_available():\n",
        "    print(f\"GPU: {torch.cuda.get_device_name(0)}\")\n",
        "    print(f\"Total GPU Memory: {torch.cuda.get_device_properties(0).total_memory / 1e9:.2f} GB\")\n",
        "    print(f\"Current GPU Memory Usage: {torch.cuda.memory_allocated(0) / 1e9:.2f} GB\")\n",
        "    print(f\"Free GPU Memory: {torch.cuda.memory_reserved(0) / 1e9:.2f} GB\")\n",
        "else:\n",
        "    print(\"No GPU found. Running on CPU!\")\n",
        "\n",
        "import os\n",
        "import gc\n",
        "\n",
        "# Get process memory usage\n",
        "pid = os.getpid()\n",
        "proc = psutil.Process(pid)\n",
        "print(f\"Python Process Memory Usage: {proc.memory_info().rss / 1e9:.2f} GB\")\n",
        "\n",
        "# Run garbage collection\n",
        "gc.collect()\n",
        "torch.cuda.empty_cache()\n",
        "print(\"Cleared Cache to Free Memory!\")\n",
        "\n"
      ],
      "metadata": {
        "id": "T6k_GMWEkKuo"
      },
      "execution_count": null,
      "outputs": []
    },
    {
      "cell_type": "markdown",
      "source": [
        "# Step 6: Fine-Tuning DeepSeek Model\n",
        "6.1 Setup Training Arguments\n",
        "We'll define our training parameters, including batch size, learning rate, and epochs."
      ],
      "metadata": {
        "id": "nys_u8MQkPHI"
      }
    },
    {
      "cell_type": "code",
      "source": [
        "from transformers import TrainingArguments\n",
        "\n",
        "model.gradient_checkpointing_enable()  # Saves memory at the cost of extra compute\n",
        "\n",
        "training_args = TrainingArguments(\n",
        "    output_dir=\"./deepseek-finetuned\",   # Save model here\n",
        "    evaluation_strategy=\"epoch\",         # Evaluate after each epoch\n",
        "    save_strategy=\"epoch\",               # Save model after each epoch\n",
        "    learning_rate=3e-5,                   # Standard LR for transformers\n",
        "    per_device_train_batch_size=1,        # Reduce if memory issue\n",
        "    per_device_eval_batch_size=1,\n",
        "    num_train_epochs=3,                   # We can adjust this later\n",
        "    weight_decay=0.01,                     # Regularization\n",
        "    logging_dir=\"./logs\",                  # Log directory\n",
        "    logging_steps=10,                       # Log progress\n",
        "    bf16=True,                              # Use mixed precision for speed\n",
        "    push_to_hub=False,                       # Disable model upload\n",
        "    gradient_accumulation_steps=16,\n",
        ")\n"
      ],
      "metadata": {
        "id": "eC2oOt5jkRAf"
      },
      "execution_count": null,
      "outputs": []
    },
    {
      "cell_type": "markdown",
      "source": [
        "# 6.2 Initialize Trainer\n",
        "We'll use Hugging Face’s Trainer to fine-tune our model"
      ],
      "metadata": {
        "id": "N6IBbW2nkTG7"
      }
    },
    {
      "cell_type": "code",
      "source": [
        "from transformers import Trainer\n",
        "\n",
        "os.environ[\"PYTORCH_CUDA_ALLOC_CONF\"] = \"expandable_segments:True\" # Enable CUDA Memory Expansion\n",
        "\n",
        "trainer = Trainer(\n",
        "    model=model,                 # Our DeepSeek model\n",
        "    args=training_args,\n",
        "    train_dataset=train_dataset, # Processed training data\n",
        "    eval_dataset=val_dataset,    # Processed validation data\n",
        "    tokenizer=tokenizer,\n",
        ")\n"
      ],
      "metadata": {
        "id": "rvj6nvNUkWxw"
      },
      "execution_count": null,
      "outputs": []
    },
    {
      "cell_type": "markdown",
      "source": [
        "# 6.3 Start Fine-Tuning! 🚀\n",
        "Now, we train the model."
      ],
      "metadata": {
        "id": "V2FSxK7XkZzr"
      }
    },
    {
      "cell_type": "code",
      "source": [
        "trainer.train()\n",
        "\n",
        "## After training, we save the model so we can use it later.\n",
        "\n",
        "model.save_pretrained(\"./deepseek-finetuned\")\n",
        "tokenizer.save_pretrained(\"./deepseek-finetuned\")"
      ],
      "metadata": {
        "id": "JCYUpWXLkadx"
      },
      "execution_count": null,
      "outputs": []
    }
  ],
  "metadata": {
    "language_info": {
      "name": "python"
    },
    "colab": {
      "provenance": []
    }
  },
  "nbformat": 4,
  "nbformat_minor": 0
}